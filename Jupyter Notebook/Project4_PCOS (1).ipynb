{
 "cells": [
  {
   "cell_type": "markdown",
   "id": "5916fa9a",
   "metadata": {},
   "source": [
    "# Polycystic Ovary Syndrome (PCOS)"
   ]
  },
  {
   "cell_type": "code",
   "execution_count": null,
   "id": "1f6bf436",
   "metadata": {},
   "outputs": [],
   "source": [
    "import numpy as np\n",
    "import pandas as pd\n",
    "import matplotlib.pyplot as plt\n",
    "import seaborn as sns\n",
    "#import pingouin as pg\n",
    "#from scipy import stats"
   ]
  },
  {
   "cell_type": "markdown",
   "id": "c4e49194",
   "metadata": {},
   "source": [
    "# Introduction\n",
    "\n",
    "Polycystic ovary syndrome, or PCOS, is one of the most common causes of female infertility, afffecting as many as 5 million American women who are of childbearing age. Women who have PCOS produce more male hormones than what is considered to be normal, which may impact their overall heath, even past their childbearing years. Symptoms can be different for every woman, which makes it very difficult to diagnose. This analysis explores various PCOS symptoms or variables that increase the likelihood of a PCOS diagnosis or infertility. In this analysis, I will explore three specific questions:\n",
    "\n",
    "Are there any features that are correlated with PCOS?\n",
    "\n",
    "What are the most frequent symptoms PCOS pateints exihibit?\n",
    "\n",
    "Do non-PCOS patients exhibit similar symptoms to those diagnosed with PCOS?"
   ]
  },
  {
   "cell_type": "markdown",
   "id": "d96dfb1d",
   "metadata": {},
   "source": [
    "# About the Data\n",
    "\n",
    "The original data set and notebook can be found on Kaggle. The data set contains one Comma Separated Values (CSV) file and one Excel file.\n",
    "\n",
    "PCOS_Data_without_infertility: Contains 45 columns (representing different parameters) and 541 rows (representing different patients identified by a Patient File Number). Excel file type.\n",
    "\n",
    "PCOS_infertility: Contains 6 columns (representing different parameters) and 541 rows (representing different patients idenfitied by a Patient File Number). CSV file type."
   ]
  },
  {
   "cell_type": "markdown",
   "id": "6f9052c4",
   "metadata": {},
   "source": [
    "# Data Inspection\n",
    "\n",
    "Before exploring the questions of interest in the data, we will inspect it to get a sense of it's general construct. In the data inspection, we will complete the following tasks:\n",
    "\n",
    "Load the data.\n",
    "\n",
    "Describe the data (shape, structure and descriptive statistics).\n",
    "\n",
    "Inspect the data including missing values or NaN values.\n",
    "\n",
    "Make intial observations about the data for subsequent steps such as data cleaning and pre-processing.\n",
    "\n",
    "Before we begin the inspection, we first import the necessary libraries for data analysis:\n",
    "\n",
    "numpy as np: Used for linear algebra or matrix math.\n",
    "\n",
    "pandas as pd: Used for data analysis in a tabular structure.\n",
    "\n",
    "matplotlib.pyplot as plt: Used for plotting data.\n",
    "\n",
    "seaborn as sns: Subpackage of Matplotlib used for statistical data visualization.\n",
    "\n",
    "stats from scipy: Used as the base package for pingouin\n",
    "\n",
    "pingouin as pg: Used for inferential statistics and statistical analysis."
   ]
  },
  {
   "cell_type": "code",
   "execution_count": null,
   "id": "33033ce7",
   "metadata": {},
   "outputs": [],
   "source": [
    "pcos_with_inf = pd.read_csv(\"PCOS_infertility.csv\")\n",
    "pcos_without_inf = pd.read_csv(\"PCOS_fertility.csv\")"
   ]
  },
  {
   "cell_type": "code",
   "execution_count": null,
   "id": "df1266db",
   "metadata": {},
   "outputs": [],
   "source": [
    "pcos_with_inf"
   ]
  },
  {
   "cell_type": "code",
   "execution_count": null,
   "id": "6fe2bc02",
   "metadata": {},
   "outputs": [],
   "source": [
    "pcos_without_inf"
   ]
  },
  {
   "cell_type": "code",
   "execution_count": null,
   "id": "27cb6a4a",
   "metadata": {},
   "outputs": [],
   "source": [
    "pcos_with_inf.shape"
   ]
  },
  {
   "cell_type": "code",
   "execution_count": null,
   "id": "26273a68",
   "metadata": {
    "scrolled": true
   },
   "outputs": [],
   "source": [
    "pcos_without_inf.shape"
   ]
  },
  {
   "cell_type": "code",
   "execution_count": null,
   "id": "0c14433d",
   "metadata": {},
   "outputs": [],
   "source": [
    "pcos_without_inf.info()"
   ]
  },
  {
   "cell_type": "markdown",
   "id": "40a7109e",
   "metadata": {},
   "source": [
    "**Missing Values**"
   ]
  },
  {
   "cell_type": "code",
   "execution_count": null,
   "id": "b0743a5e",
   "metadata": {},
   "outputs": [],
   "source": [
    "pcos_without_inf.isna().any()"
   ]
  },
  {
   "cell_type": "markdown",
   "id": "4d7d1ceb",
   "metadata": {},
   "source": [
    "**Dropping all the Nan values**"
   ]
  },
  {
   "cell_type": "code",
   "execution_count": null,
   "id": "7a367592",
   "metadata": {},
   "outputs": [],
   "source": [
    "pcos_without_inf = pcos_without_inf.dropna(axis = 0, how = 'all').dropna(axis = 1, how = 'any')\n",
    "pcos_without_inf"
   ]
  },
  {
   "cell_type": "code",
   "execution_count": null,
   "id": "7b94a804",
   "metadata": {},
   "outputs": [],
   "source": [
    "#To check whether all Nan values have been removed\n",
    "pcos_without_inf.isna().any()"
   ]
  },
  {
   "cell_type": "markdown",
   "id": "52d5bcff",
   "metadata": {},
   "source": [
    "**Removing all the white spaces**"
   ]
  },
  {
   "cell_type": "code",
   "execution_count": null,
   "id": "958d6712",
   "metadata": {},
   "outputs": [],
   "source": [
    "pcos_without_inf.columns = [col.strip() for col in pcos_without_inf.columns]\n",
    "pcos_without_inf.columns"
   ]
  },
  {
   "cell_type": "code",
   "execution_count": null,
   "id": "97c87129",
   "metadata": {},
   "outputs": [],
   "source": [
    "plt.figure(figsize=(20,10))\n",
    "heatmap = sns.heatmap(pcos_without_inf.corr(), vmin=-1, vmax=1, annot=True)\n",
    "heatmap.set_title('Correlation Heatmap for PCOS', fontdict={'fontsize':18}, pad=5);"
   ]
  },
  {
   "cell_type": "markdown",
   "id": "e5bb4be0",
   "metadata": {},
   "source": [
    "**As we can see from the correlation heatmap, we can't understand that which factor is responsible for PCOS. We will perform ANOVA testing.**"
   ]
  },
  {
   "cell_type": "code",
   "execution_count": null,
   "id": "99c83ad2",
   "metadata": {},
   "outputs": [],
   "source": [
    "pcos_without_inf_anova= pcos_without_inf[['PCOS (Y/N)', 'BMI',\n",
    "       'RR (breaths/min)', 'Hb(g/dl)', 'Cycle length(days)',\n",
    "       'II    beta-HCG(mIU/mL)',\n",
    "       'FSH(mIU/mL)', 'LH(mIU/mL)', 'Waist(inch)',\n",
    "       'Waist:Hip Ratio', 'TSH (mIU/L)', 'AMH(ng/mL)', 'PRL(ng/mL)',\n",
    "       'Vit D3 (ng/mL)', 'PRG(ng/mL)', 'RBS(mg/dl)', 'BP _Systolic (mmHg)',\n",
    "       'BP _Diastolic (mmHg)', 'Follicle No. (R)',\n",
    "       'Avg. F size (L) (mm)', 'Avg. F size (R) (mm)', 'Endometrium (mm)']]"
   ]
  },
  {
   "cell_type": "code",
   "execution_count": null,
   "id": "ab755ef9",
   "metadata": {},
   "outputs": [],
   "source": [
    "#Renaming the columns for better understanding\n",
    "pcos_without_inf_anova=pcos_without_inf_anova.rename(columns = {'PCOS (Y/N)':'PCOS','Pulse rate(bpm)':'Pulse rate',\n",
    "       'RR (breaths/min)':'RR', 'Hb(g/dl)':'HB', 'Cycle length(days)':'Cycle length',\n",
    "        'I   beta-HCG(mIU/mL)':'I   beta-HCG', 'II    beta-HCG(mIU/mL)':'II    beta-HCG',\n",
    "       'FSH(mIU/mL)':'FSH', 'LH(mIU/mL)':'LH',\n",
    "        'TSH (mIU/L)':'TSH', 'AMH(ng/mL)':'AMH', 'PRL(ng/mL)':'PRL',\n",
    "       'Vit D3 (ng/mL)':'Vit D3', 'PRG(ng/mL)':'PRL', 'RBS(mg/dl)':'RBS', 'BP _Systolic (mmHg)':'BP _Systolic',\n",
    "       'BP _Diastolic (mmHg)':'BP _Diastolic', 'Follicle No. (R)':'Follicle No.',\n",
    "       'Avg. F size (L) (mm)':'Avg. F size (L)', 'Avg. F size (R) (mm)':'Avg. F size (R)', 'Endometrium (mm)':'Endometrium', 'Height (m)':'Height'})"
   ]
  },
  {
   "cell_type": "code",
   "execution_count": null,
   "id": "86be0809",
   "metadata": {},
   "outputs": [],
   "source": [
    "pcos_without_inf_anova.shape"
   ]
  },
  {
   "cell_type": "markdown",
   "id": "3f1c7bf7",
   "metadata": {},
   "source": [
    "Hypothetis Testing"
   ]
  },
  {
   "cell_type": "code",
   "execution_count": null,
   "id": "c9dae637",
   "metadata": {},
   "outputs": [],
   "source": [
    "pg.anova(dv = 'PCOS', between = ['Age'], data = pcos_without_inf_anova)"
   ]
  },
  {
   "cell_type": "code",
   "execution_count": null,
   "id": "2d23e18d",
   "metadata": {},
   "outputs": [],
   "source": [
    "pg.anova(dv = 'PCOS', between = ['BMI'], data = pcos_without_inf_anova)"
   ]
  },
  {
   "cell_type": "code",
   "execution_count": null,
   "id": "03783a75",
   "metadata": {},
   "outputs": [],
   "source": [
    "pg.anova(dv = 'PCOS', between = ['Resp_Rate'], data = pcos_without_inf_anova)"
   ]
  },
  {
   "cell_type": "code",
   "execution_count": null,
   "id": "449c3ec1",
   "metadata": {},
   "outputs": [],
   "source": [
    "pg.anova(dv = 'PCOS', between = ['Hemoglobin'], data = pcos_without_inf_anova)"
   ]
  },
  {
   "cell_type": "code",
   "execution_count": null,
   "id": "5d35b46e",
   "metadata": {},
   "outputs": [],
   "source": [
    "pg.anova(dv = 'PCOS', between = ['Waist_Hip_Ratio'], data = pcos_without_inf_anova)"
   ]
  },
  {
   "cell_type": "code",
   "execution_count": null,
   "id": "2ab4f6e5",
   "metadata": {},
   "outputs": [],
   "source": [
    "pg.anova(dv = 'PCOS', between = ['Vit_D'], data = pcos_without_inf_anova)"
   ]
  },
  {
   "cell_type": "code",
   "execution_count": null,
   "id": "26a1d4bf",
   "metadata": {},
   "outputs": [],
   "source": [
    "pg.anova(dv = 'PCOS', between = ['Height'], data = pcos_without_inf_anova)"
   ]
  },
  {
   "cell_type": "code",
   "execution_count": null,
   "id": "cef2a417",
   "metadata": {},
   "outputs": [],
   "source": [
    "sns.displot(data = PCOS_woinf_ANOVA, x = \"Foll_No_R\", hue = 'PCOS', kde = True).set(title = \"PCOS vs. non-PCOS Right Ovary Follicle Count\")"
   ]
  },
  {
   "cell_type": "code",
   "execution_count": null,
   "id": "07268a48",
   "metadata": {},
   "outputs": [],
   "source": [
    "sns.displot(data = PCOS_woinf_ANOVA, x = \"Cycle_Length\", hue = 'PCOS', kde = True).set(title = \"PCOS vs. non-PCOS Menstrual Cycle Duration\")"
   ]
  },
  {
   "cell_type": "code",
   "execution_count": null,
   "id": "0a46ada2",
   "metadata": {},
   "outputs": [],
   "source": [
    "sns.displot(data = PCOS_woinf_ANOVA, x = \"Anti_Mull_Horm\", hue = 'PCOS', kde = True).set(title = \"PCOS vs. non-PCOS Anti-Mullerian Hormone\")"
   ]
  },
  {
   "cell_type": "code",
   "execution_count": null,
   "id": "3473dad4",
   "metadata": {},
   "outputs": [],
   "source": [
    "sns.displot(data = PCOS_woinf_ANOVA, x = \"Age\", hue = 'PCOS', kde = True).set(title = \"PCOS vs. non-PCOS Ages\")"
   ]
  },
  {
   "cell_type": "code",
   "execution_count": null,
   "id": "d596ef2c",
   "metadata": {},
   "outputs": [],
   "source": [
    "sns.displot(data = PCOS_woinf_ANOVA, x = \"Prolactin\", hue = 'PCOS', kde = True).set(title = \"PCOS vs. non-PCOS Prolactin Levels\")"
   ]
  }
 ],
 "metadata": {
  "kernelspec": {
   "display_name": "Python 3",
   "language": "python",
   "name": "python3"
  },
  "language_info": {
   "codemirror_mode": {
    "name": "ipython",
    "version": 3
   },
   "file_extension": ".py",
   "mimetype": "text/x-python",
   "name": "python",
   "nbconvert_exporter": "python",
   "pygments_lexer": "ipython3",
   "version": "3.8.8"
  }
 },
 "nbformat": 4,
 "nbformat_minor": 5
}
